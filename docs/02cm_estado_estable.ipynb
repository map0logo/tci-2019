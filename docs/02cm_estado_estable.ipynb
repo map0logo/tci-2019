{
 "cells": [
  {
   "cell_type": "markdown",
   "metadata": {},
   "source": [
    "# Análisis de Estado Estable\n",
    "\n",
    "## Probabilidades de estado estable\n",
    "\n",
    "Podemos utilizar la ecuación de Chapman-Kolgomorov para analizar la evolución de las probabilidades de transición de $n$-pasos. Utilicemos los datos de la parte anterior:"
   ]
  },
  {
   "cell_type": "code",
   "execution_count": 1,
   "metadata": {},
   "outputs": [
    {
     "data": {
      "text/plain": [
       "array([[0.7, 0.1, 0.2],\n",
       "       [0.2, 0.7, 0.1],\n",
       "       [0.5, 0.2, 0.3]])"
      ]
     },
     "execution_count": 1,
     "metadata": {},
     "output_type": "execute_result"
    }
   ],
   "source": [
    "import numpy as np\n",
    "p = np.array([[0.7, 0.1, 0.2], [0.2, 0.7, 0.1], [0.5, 0.2, 0.3]])\n",
    "p"
   ]
  },
  {
   "cell_type": "code",
   "execution_count": 2,
   "metadata": {},
   "outputs": [
    {
     "data": {
      "text/plain": [
       "array([[0.61, 0.18, 0.21],\n",
       "       [0.33, 0.53, 0.14],\n",
       "       [0.54, 0.25, 0.21]])"
      ]
     },
     "execution_count": 2,
     "metadata": {},
     "output_type": "execute_result"
    }
   ],
   "source": [
    "p2 = p @ p\n",
    "p2"
   ]
  },
  {
   "cell_type": "code",
   "execution_count": 3,
   "metadata": {},
   "outputs": [
    {
     "data": {
      "text/plain": [
       "array([[0.5449, 0.2577, 0.1974],\n",
       "       [0.4518, 0.3753, 0.1729],\n",
       "       [0.5253, 0.2822, 0.1925]])"
      ]
     },
     "execution_count": 3,
     "metadata": {},
     "output_type": "execute_result"
    }
   ],
   "source": [
    "p4 = p2 @ p2\n",
    "p4"
   ]
  },
  {
   "cell_type": "code",
   "execution_count": 4,
   "metadata": {},
   "outputs": [
    {
     "data": {
      "text/plain": [
       "array([[0.51703909, 0.29284182, 0.19011909],\n",
       "       [0.50657073, 0.30607133, 0.18735794],\n",
       "       [0.51485418, 0.29560297, 0.18954285]])"
      ]
     },
     "execution_count": 4,
     "metadata": {},
     "output_type": "execute_result"
    }
   ],
   "source": [
    "p8 = p4 @ p4\n",
    "p8"
   ]
  },
  {
   "cell_type": "code",
   "execution_count": 5,
   "metadata": {},
   "outputs": [
    {
     "data": {
      "text/plain": [
       "array([[0.51355812, 0.29724092, 0.18920096],\n",
       "       [0.51342566, 0.29740832, 0.18916602],\n",
       "       [0.51353048, 0.29727586, 0.18919366]])"
      ]
     },
     "execution_count": 5,
     "metadata": {},
     "output_type": "execute_result"
    }
   ],
   "source": [
    "p16 = p8 @ p8\n",
    "p16"
   ]
  },
  {
   "cell_type": "markdown",
   "metadata": {},
   "source": [
    "En este caso, es notable observar como los valores en cada columna van convergiendo a un mismo valor.\n",
    "\n",
    "Esta es una propiedad que tienen todas las cadenas de Markov que forman un conjunto irreducible no periódico. Estas cadenas también se conocen como **ergódicas**."
   ]
  },
  {
   "cell_type": "code",
   "execution_count": 11,
   "metadata": {},
   "outputs": [
    {
     "data": {
      "image/png": "[encoded data removed]",
      "text/plain": [
       "<Figure size 432x288 with 1 Axes>"
      ]
     },
     "metadata": {
      "needs_background": "light"
     },
     "output_type": "display_data"
    }
   ],
   "source": [
    "import matplotlib.pyplot as plt\n",
    "\n",
    "fig, ax = plt.subplots()\n",
    "nt = 15 \n",
    "pt = np.empty(3 * 3 * nt)\n",
    "pt.shape = (3, 3, nt)\n",
    "p_aux = p\n",
    "n, m = p.shape\n",
    "for t in range(nt):\n",
    "    pt[:, :, t] = p_aux\n",
    "    p_aux = p_aux @ p\n",
    "\n",
    "for j in range(n):\n",
    "    for k in range(m):\n",
    "        plt.plot(pt[k, j], color=f\"#{format(k*96, '02x')}{format(j*96, '02x')}32\", label=f'$p_{{{k}{j}}}$')\n",
    "ax.set_xlabel('n-ésima potencia de $\\mathbf{P}$')\n",
    "ax.set_ylabel('Probabilidad')\n",
    "plt.legend(loc='lower right', bbox_to_anchor=(1.2, 0))\n",
    "plt.show()"
   ]
  },
  {
   "cell_type": "markdown",
   "metadata": {},
   "source": [
    "\n",
    "Se puede observar que cada grupo de líneas que corresponden a las probabilidades de n-ésimo paso de una misma columna convergen. Estos valores a los que convergen todos los valores de una misma columna se conocen como **Probabilidades de estado estable** que se denotan por $\\mathbf{\\Pi} = \\lim\\limits_{n \\to \\infty}\\mathbf{P}^n$, y pueden calcularse directamente observando que en algún momento:\n",
    "\n",
    "\\begin{equation}\n",
    "    \\mathbf{\\Pi} \\cdot \\mathbf{P} = \\mathbf{\\Pi}\n",
    "\\end{equation}\n",
    "\n",
    "Lo que implica que:\n",
    "\n",
    "\\begin{equation}\n",
    "    \\pi_j = \\sum_{i=1}^{N}\\pi_i p_{ij}~\\forall j=1, 2, \\dots, N\n",
    "\\end{equation}\n",
    "\n",
    "Esto conduce al sistema de ecuaciones:\n",
    "\n",
    "\\begin{equation}\n",
    "     [\\mathbf{P}^t - \\mathbf{I}]~\\mathbf{\\Pi} = \\mathbf{0}\n",
    "\\end{equation}\n",
    "\n",
    "Como todas las ecuaciones quedan igualadas a cero se genera una dependencia lineal, por lo que se debe sustituir una de estas ecuaciones (es decir, una fila del sistema anterior) por el hecho que: \n",
    "\n",
    "\\begin{equation}\n",
    "    \\sum_{i=1}^{N}\\pi_i = 1\n",
    "\\end{equation}\n",
    "\n",
    "Así, podemos resolverlo matricialmente mediante la siguiente función:"
   ]
  },
  {
   "cell_type": "code",
   "execution_count": 8,
   "metadata": {},
   "outputs": [],
   "source": [
    "def steady_state(p):\n",
    "    n = p.shape[0]\n",
    "    a = p.T - np.eye(n)\n",
    "    a[n - 1, :] = np.ones(n)\n",
    "    b = np.append(np.zeros(n - 1), 1)\n",
    "    return np.linalg.solve(a, b)"
   ]
  },
  {
   "cell_type": "code",
   "execution_count": 9,
   "metadata": {},
   "outputs": [
    {
     "data": {
      "text/markdown": [
       "$\\pi_{1} =$ 0.513514"
      ],
      "text/plain": [
       "<IPython.core.display.Markdown object>"
      ]
     },
     "metadata": {},
     "output_type": "display_data"
    },
    {
     "data": {
      "text/markdown": [
       "$\\pi_{2} =$ 0.297297"
      ],
      "text/plain": [
       "<IPython.core.display.Markdown object>"
      ]
     },
     "metadata": {},
     "output_type": "display_data"
    },
    {
     "data": {
      "text/markdown": [
       "$\\pi_{3} =$ 0.189189"
      ],
      "text/plain": [
       "<IPython.core.display.Markdown object>"
      ]
     },
     "metadata": {},
     "output_type": "display_data"
    }
   ],
   "source": [
    "from IPython.display import display, Markdown\n",
    "\n",
    "pi = steady_state(p)\n",
    "display(Markdown(rf'$\\pi_{{1}} =$ {pi[0]:.6f}'))\n",
    "display(Markdown(rf'$\\pi_{{2}} =$ {pi[1]:.6f}'))\n",
    "display(Markdown(rf'$\\pi_{{3}} =$ {pi[2]:.6f}'))"
   ]
  },
  {
   "cell_type": "markdown",
   "metadata": {},
   "source": [
    "La forma básica en la que pueden interpretarse estos valores es la probabilidad de que el sistema (representado por la cadena de markov) se encuentre en uno estado específico después de un número suficientemente grande de transiciones.\n",
    "\n",
    "En este caso, $\\pi_{1} = 0.513514$ indica que la probabilidad de conseguir un día soleado dentro de 100 o 200 días es aproximadamente $0.51$, independientemente del estado del clima de hoy.\n",
    "\n",
    "Hay otra interpretación probablemente más interesante de las probabilidades de estado estable, a partir del propio concepto de la probabilidad como frecuencia relativa, y es que de un número suficientemente grande de días, estas probabilidades representan el número de estimado de ocurrencias de un estado.\n",
    "\n",
    "En este caso, en un año el número de días soleados estaría dado por:"
   ]
  },
  {
   "cell_type": "code",
   "execution_count": 10,
   "metadata": {},
   "outputs": [
    {
     "data": {
      "text/plain": [
       "187.4324324324324"
      ]
     },
     "execution_count": 10,
     "metadata": {},
     "output_type": "execute_result"
    }
   ],
   "source": [
    "365 * pi[0]"
   ]
  },
  {
   "cell_type": "markdown",
   "metadata": {},
   "source": [
    "Esto indica que poco más de $187$ días al año serán soleados. Y en general, que el $51.35 \\%$ de los días serán soleados."
   ]
  }
 ],
 "metadata": {
  "kernelspec": {
   "display_name": "Python 3",
   "language": "python",
   "name": "python3"
  },
  "language_info": {
   "codemirror_mode": {
    "name": "ipython",
    "version": 3
   },
   "file_extension": ".py",
   "mimetype": "text/x-python",
   "name": "python",
   "nbconvert_exporter": "python",
   "pygments_lexer": "ipython3",
   "version": "3.7.3"
  }
 },
 "nbformat": 4,
 "nbformat_minor": 4
}
